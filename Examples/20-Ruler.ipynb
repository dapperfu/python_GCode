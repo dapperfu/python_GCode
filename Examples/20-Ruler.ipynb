{
 "cells": [
  {
   "cell_type": "markdown",
   "metadata": {},
   "source": [
    "# Ruler\n",
    "\n",
    "Draw a ruler."
   ]
  },
  {
   "cell_type": "code",
   "execution_count": 1,
   "metadata": {},
   "outputs": [],
   "source": [
    "import gcode"
   ]
  },
  {
   "cell_type": "code",
   "execution_count": 2,
   "metadata": {},
   "outputs": [],
   "source": [
    "ruler = gcode.GCode()"
   ]
  },
  {
   "cell_type": "code",
   "execution_count": 3,
   "metadata": {},
   "outputs": [
    {
     "data": {
      "text/html": [],
      "text/plain": [
       "<GCode>[cmds=0]"
      ]
     },
     "execution_count": 3,
     "metadata": {},
     "output_type": "execute_result"
    }
   ],
   "source": [
    "ruler"
   ]
  },
  {
   "cell_type": "code",
   "execution_count": 4,
   "metadata": {},
   "outputs": [
    {
     "data": {
      "text/html": [
       "<b>G</b>92<b>X</b>0.0<b>Y</b>0.0<br>\n",
       "<b>G</b>21<br>\n",
       "<b>G</b>90"
      ],
      "text/plain": [
       "<GCode>[cmds=3]"
      ]
     },
     "execution_count": 4,
     "metadata": {},
     "output_type": "execute_result"
    }
   ],
   "source": [
    "ruler.G92(X=0, Y=0)\n",
    "ruler.G21()\n",
    "ruler.G90()\n",
    "ruler"
   ]
  },
  {
   "cell_type": "code",
   "execution_count": 5,
   "metadata": {},
   "outputs": [],
   "source": [
    "gcode.hline?"
   ]
  },
  {
   "cell_type": "code",
   "execution_count": 6,
   "metadata": {},
   "outputs": [
    {
     "data": {
      "text/plain": [
       "array([[  0.,   5.],\n",
       "       [100.,   5.]])"
      ]
     },
     "execution_count": 6,
     "metadata": {},
     "output_type": "execute_result"
    }
   ],
   "source": [
    "# Draw a horizontal line\n",
    "baseline = gcode.hline(X0=0, Xf=100, Y=5, n_points=2)\n",
    "baseline"
   ]
  },
  {
   "cell_type": "code",
   "execution_count": 7,
   "metadata": {},
   "outputs": [
    {
     "data": {
      "text/html": [
       "<b>G</b>0<b>X</b>0.0<b>Y</b>5.0<br>\n",
       "<b>M</b>4<b>S</b>200.0<br>\n",
       "<b>G</b>1<b>X</b>100.0<b>Y</b>5.0<b>F</b>200.0<br>\n",
       "<b>M</b>5"
      ],
      "text/plain": [
       "Line<len=100.0mm, feed=200, power=200>"
      ]
     },
     "execution_count": 7,
     "metadata": {},
     "output_type": "execute_result"
    }
   ],
   "source": [
    "gcode.Line(baseline, power=200, feed=200)"
   ]
  },
  {
   "cell_type": "code",
   "execution_count": 8,
   "metadata": {},
   "outputs": [],
   "source": [
    "ruler+=gcode.Line(baseline, power=200, feed=200)"
   ]
  },
  {
   "cell_type": "code",
   "execution_count": 9,
   "metadata": {},
   "outputs": [
    {
     "data": {
      "text/html": [
       "<b>G</b>92<b>X</b>0.0<b>Y</b>0.0<br>\n",
       "<b>G</b>21<br>\n",
       "<b>G</b>90<br>\n",
       "<b>G</b>0<b>X</b>0.0<b>Y</b>5.0<br>\n",
       "<b>M</b>4<b>S</b>200.0<br>\n",
       "<b>G</b>1<b>X</b>100.0<b>Y</b>5.0<b>F</b>200.0<br>\n",
       "<b>M</b>5"
      ],
      "text/plain": [
       "<GCode>[cmds=7]"
      ]
     },
     "execution_count": 9,
     "metadata": {},
     "output_type": "execute_result"
    }
   ],
   "source": [
    "ruler"
   ]
  },
  {
   "cell_type": "code",
   "execution_count": 10,
   "metadata": {},
   "outputs": [],
   "source": [
    "import numpy as np"
   ]
  },
  {
   "cell_type": "code",
   "execution_count": 11,
   "metadata": {},
   "outputs": [],
   "source": [
    "for vline_x in np.arange(0, 101, 10):\n",
    "    break"
   ]
  },
  {
   "cell_type": "code",
   "execution_count": 12,
   "metadata": {},
   "outputs": [
    {
     "data": {
      "text/plain": [
       "0"
      ]
     },
     "execution_count": 12,
     "metadata": {},
     "output_type": "execute_result"
    }
   ],
   "source": [
    "vline_x"
   ]
  },
  {
   "cell_type": "code",
   "execution_count": 13,
   "metadata": {},
   "outputs": [
    {
     "data": {
      "text/plain": [
       "array([[ 0.,  0.],\n",
       "       [ 0., 10.]])"
      ]
     },
     "execution_count": 13,
     "metadata": {},
     "output_type": "execute_result"
    }
   ],
   "source": [
    "gcode.vline(X=vline_x, Y0=0, Yf=10)"
   ]
  },
  {
   "cell_type": "code",
   "execution_count": 14,
   "metadata": {},
   "outputs": [],
   "source": [
    "for vline_x in np.arange(0, 101, 10):\n",
    "    pts=gcode.vline(X=vline_x, Y0=0, Yf=10)\n",
    "    ruler+=gcode.Line(pts, power=200, feed=200)"
   ]
  },
  {
   "cell_type": "code",
   "execution_count": 15,
   "metadata": {},
   "outputs": [
    {
     "data": {
      "text/html": [
       "<b>G</b>92<b>X</b>0.0<b>Y</b>0.0<br>\n",
       "<b>G</b>21<br>\n",
       "<b>G</b>90<br>\n",
       "<b>G</b>0<b>X</b>0.0<b>Y</b>5.0<br>\n",
       "<b>M</b>4<b>S</b>200.0<br>\n",
       "<b>G</b>1<b>X</b>100.0<b>Y</b>5.0<b>F</b>200.0<br>\n",
       "<b>M</b>5<br>\n",
       "<b>G</b>0<b>X</b>0.0<b>Y</b>0.0<br>\n",
       "<b>M</b>4<b>S</b>200.0<br>\n",
       "<b>G</b>1<b>X</b>0.0<b>Y</b>10.0<b>F</b>200.0<br>\n",
       "<b>M</b>5<br>\n",
       "<b>G</b>0<b>X</b>10.0<b>Y</b>0.0<br>\n",
       "<b>M</b>4<b>S</b>200.0<br>\n",
       "<b>G</b>1<b>X</b>10.0<b>Y</b>10.0<b>F</b>200.0<br>\n",
       "<b>M</b>5<br>\n",
       "<b>G</b>0<b>X</b>20.0<b>Y</b>0.0<br>\n",
       "<b>M</b>4<b>S</b>200.0<br>\n",
       "<b>G</b>1<b>X</b>20.0<b>Y</b>10.0<b>F</b>200.0<br>\n",
       "<b>M</b>5<br>\n",
       "<b>G</b>0<b>X</b>30.0<b>Y</b>0.0<br>\n",
       "<b>M</b>4<b>S</b>200.0<br>\n",
       "<b>G</b>1<b>X</b>30.0<b>Y</b>10.0<b>F</b>200.0<br>\n",
       "<b>M</b>5<br>\n",
       "<b>G</b>0<b>X</b>40.0<b>Y</b>0.0<br>\n",
       "<b>M</b>4<b>S</b>200.0<br>\n",
       "<b>G</b>1<b>X</b>40.0<b>Y</b>10.0<b>F</b>200.0<br>\n",
       "<b>M</b>5<br>\n",
       "<b>G</b>0<b>X</b>50.0<b>Y</b>0.0<br>\n",
       "<b>M</b>4<b>S</b>200.0<br>\n",
       "<b>G</b>1<b>X</b>50.0<b>Y</b>10.0<b>F</b>200.0<br>\n",
       "<b>M</b>5<br>\n",
       "<b>G</b>0<b>X</b>60.0<b>Y</b>0.0<br>\n",
       "<b>M</b>4<b>S</b>200.0<br>\n",
       "<b>G</b>1<b>X</b>60.0<b>Y</b>10.0<b>F</b>200.0<br>\n",
       "<b>M</b>5<br>\n",
       "<b>G</b>0<b>X</b>70.0<b>Y</b>0.0<br>\n",
       "<b>M</b>4<b>S</b>200.0<br>\n",
       "<b>G</b>1<b>X</b>70.0<b>Y</b>10.0<b>F</b>200.0<br>\n",
       "<b>M</b>5<br>\n",
       "<b>G</b>0<b>X</b>80.0<b>Y</b>0.0<br>\n",
       "<b>M</b>4<b>S</b>200.0<br>\n",
       "<b>G</b>1<b>X</b>80.0<b>Y</b>10.0<b>F</b>200.0<br>\n",
       "<b>M</b>5<br>\n",
       "<b>G</b>0<b>X</b>90.0<b>Y</b>0.0<br>\n",
       "<b>M</b>4<b>S</b>200.0<br>\n",
       "<b>G</b>1<b>X</b>90.0<b>Y</b>10.0<b>F</b>200.0<br>\n",
       "<b>M</b>5<br>\n",
       "<b>G</b>0<b>X</b>100.0<b>Y</b>0.0<br>\n",
       "<b>M</b>4<b>S</b>200.0<br>\n",
       "<b>G</b>1<b>X</b>100.0<b>Y</b>10.0<b>F</b>200.0<br>\n",
       "<b>M</b>5"
      ],
      "text/plain": [
       "<GCode>[cmds=51]"
      ]
     },
     "execution_count": 15,
     "metadata": {},
     "output_type": "execute_result"
    }
   ],
   "source": [
    "ruler"
   ]
  },
  {
   "cell_type": "code",
   "execution_count": null,
   "metadata": {},
   "outputs": [],
   "source": [
    "ruler.G0(X=0, Y=0, F=500)"
   ]
  },
  {
   "cell_type": "code",
   "execution_count": 16,
   "metadata": {},
   "outputs": [],
   "source": [
    "\n",
    "ruler.save(\"ruler.ngc\")"
   ]
  },
  {
   "cell_type": "code",
   "execution_count": null,
   "metadata": {},
   "outputs": [],
   "source": []
  },
  {
   "cell_type": "code",
   "execution_count": null,
   "metadata": {},
   "outputs": [],
   "source": []
  }
 ],
 "metadata": {
  "kernelspec": {
   "display_name": "Python 3",
   "language": "python",
   "name": "python3"
  },
  "language_info": {
   "codemirror_mode": {
    "name": "ipython",
    "version": 3
   },
   "file_extension": ".py",
   "mimetype": "text/x-python",
   "name": "python",
   "nbconvert_exporter": "python",
   "pygments_lexer": "ipython3",
   "version": "3.7.3"
  }
 },
 "nbformat": 4,
 "nbformat_minor": 2
}
