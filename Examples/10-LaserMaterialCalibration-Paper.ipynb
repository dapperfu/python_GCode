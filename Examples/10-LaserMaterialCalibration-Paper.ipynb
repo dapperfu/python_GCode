{
 "cells": [
  {
   "cell_type": "markdown",
   "metadata": {},
   "source": [
    "## Laser Calibration ```gcode``` examples.\n",
    "\n",
    "Some code to 'calibrate' laser settings to card stock."
   ]
  },
  {
   "cell_type": "code",
   "execution_count": 22,
   "metadata": {},
   "outputs": [
    {
     "name": "stdout",
     "output_type": "stream",
     "text": [
      "The autoreload extension is already loaded. To reload it, use:\n",
      "  %reload_ext autoreload\n"
     ]
    }
   ],
   "source": [
    "# Imports and autoreload for development\n",
    "%load_ext autoreload\n",
    "%autoreload 2\n",
    "import gcode\n",
    "import numpy as np"
   ]
  },
  {
   "cell_type": "code",
   "execution_count": 18,
   "metadata": {},
   "outputs": [],
   "source": [
    "import grbl\n",
    "cnc = grbl.Grbl(port=\"/dev/ttyUSB0\")"
   ]
  },
  {
   "cell_type": "markdown",
   "metadata": {},
   "source": [
    "# Line Calibration\n",
    "\n",
    "Vary feed rate, power and dynamic powering."
   ]
  },
  {
   "cell_type": "code",
   "execution_count": 20,
   "metadata": {},
   "outputs": [
    {
     "data": {
      "text/plain": [
       "['ok', 'ok']"
      ]
     },
     "execution_count": 20,
     "metadata": {},
     "output_type": "execute_result"
    }
   ],
   "source": [
    "cnc.cmd(\"$100=80.125\")\n",
    "cnc.cmd(\"$101=80.125\")"
   ]
  },
  {
   "cell_type": "code",
   "execution_count": 21,
   "metadata": {},
   "outputs": [],
   "source": [
    "def init(**kwargs):\n",
    "    \"\"\"\n",
    "    Basic Machine Init.\n",
    "    \"\"\"\n",
    "    prog = gcode.GCode(**kwargs)\n",
    "    prog.G21()\n",
    "    prog.G90()\n",
    "    prog.G92(X=0, Y=0)\n",
    "    prog.G1(F=200)\n",
    "    prog.G0(F=200)\n",
    "    return prog"
   ]
  },
  {
   "cell_type": "code",
   "execution_count": 26,
   "metadata": {},
   "outputs": [],
   "source": [
    "# Create an empty GCode program with the above function, some saner defaults than an empty program.\n",
    "prog = init(machine=cnc)\n",
    "# Line spacing to use.\n",
    "line_spacing=2\n",
    "# Generate points for a 10mm line\n",
    "line_points = gcode.hline(Xf=10)\n",
    "for p, power in enumerate(np.arange(25, 255, 25)):\n",
    "    # Use Absolute coordinates\n",
    "    prog.G90()\n",
    "    # Go to a the start of a row, each power has its own row.\n",
    "    prog.G0(X=0, Y=(p+1)*line_spacing)\n",
    "    # Relative coordinates for each drawn line.\n",
    "    prog.G91()\n",
    "    # Non-dynamic power on cardstock makes holes. \n",
    "    for d, dynamic_power in enumerate([True]):\n",
    "        # For each of the given feed rates\n",
    "        for f, feed in enumerate(np.arange(30, 360+1, 30)): \n",
    "                prog+=gcode.Line(points=line_points, power=power, feed=feed, dynamic_power=dynamic_power)\n",
    "prog.G90()\n",
    "prog.G0(X=0, Y=0)"
   ]
  },
  {
   "cell_type": "code",
   "execution_count": 30,
   "metadata": {},
   "outputs": [
    {
     "data": {
      "text/plain": [
       "array([ 30,  60,  90, 120, 150, 180, 210, 240, 270, 300, 330, 360])"
      ]
     },
     "execution_count": 30,
     "metadata": {},
     "output_type": "execute_result"
    }
   ],
   "source": [
    "(np.arange(30, 360+1, 30))"
   ]
  },
  {
   "cell_type": "code",
   "execution_count": 31,
   "metadata": {},
   "outputs": [
    {
     "data": {
      "text/plain": [
       "array([ 25,  50,  75, 100, 125, 150, 175, 200, 225, 250])"
      ]
     },
     "execution_count": 31,
     "metadata": {},
     "output_type": "execute_result"
    }
   ],
   "source": [
    "np.arange(25, 255, 25)"
   ]
  },
  {
   "cell_type": "code",
   "execution_count": 33,
   "metadata": {},
   "outputs": [
    {
     "name": "stderr",
     "output_type": "stream",
     "text": [
      "100%|██████████| 517/517 [13:53<00:00,  1.61s/it] \n"
     ]
    },
    {
     "data": {
      "text/plain": [
       "849.3127617835999"
      ]
     },
     "execution_count": 33,
     "metadata": {},
     "output_type": "execute_result"
    }
   ],
   "source": [
    "cnc.run(prog)"
   ]
  },
  {
   "cell_type": "code",
   "execution_count": 34,
   "metadata": {},
   "outputs": [
    {
     "data": {
      "text/plain": [
       "'<Idle|WPos:0.000,0.000,0.000|Bf:15,127|FS:0,0>'"
      ]
     },
     "execution_count": 34,
     "metadata": {},
     "output_type": "execute_result"
    }
   ],
   "source": [
    "cnc.status"
   ]
  },
  {
   "cell_type": "code",
   "execution_count": 35,
   "metadata": {},
   "outputs": [
    {
     "data": {
      "text/plain": [
       "['ok', 'ok']"
      ]
     },
     "execution_count": 35,
     "metadata": {},
     "output_type": "execute_result"
    }
   ],
   "source": [
    "cnc.cmd(\"G0X10\")"
   ]
  },
  {
   "cell_type": "code",
   "execution_count": 37,
   "metadata": {},
   "outputs": [
    {
     "data": {
      "text/plain": [
       "'<Idle|WPos:9.997,0.000,0.000|Bf:15,127|FS:0,0>'"
      ]
     },
     "execution_count": 37,
     "metadata": {},
     "output_type": "execute_result"
    }
   ],
   "source": [
    "cnc.status"
   ]
  },
  {
   "cell_type": "code",
   "execution_count": null,
   "metadata": {},
   "outputs": [],
   "source": []
  }
 ],
 "metadata": {
  "kernelspec": {
   "display_name": "Python 3",
   "language": "python",
   "name": "python3"
  },
  "language_info": {
   "codemirror_mode": {
    "name": "ipython",
    "version": 3
   },
   "file_extension": ".py",
   "mimetype": "text/x-python",
   "name": "python",
   "nbconvert_exporter": "python",
   "pygments_lexer": "ipython3",
   "version": "3.7.3"
  }
 },
 "nbformat": 4,
 "nbformat_minor": 2
}
