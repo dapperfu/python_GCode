{
 "cells": [
  {
   "cell_type": "markdown",
   "metadata": {},
   "source": [
    "# Grid\n",
    "\n",
    "Draw a 100x100mm grid with lines on the 10mm.\n",
    "\n",
    "An example of what happens when there is a bug in your GCode 'program'."
   ]
  },
  {
   "cell_type": "code",
   "execution_count": 3,
   "metadata": {},
   "outputs": [],
   "source": [
    "import gcode\n",
    "import numpy as np"
   ]
  },
  {
   "cell_type": "code",
   "execution_count": 11,
   "metadata": {},
   "outputs": [
    {
     "data": {
      "text/html": [
       "<b>G</b>92<b>X</b>0.0<b>Y</b>0.0<br>\n",
       "<b>G</b>21<br>\n",
       "<b>G</b>90<br>\n",
       "<b>G</b>0<b>X</b>0.0<b>Y</b>0.0<br>\n",
       "<b>M</b>4<b>S</b>200.0<br>\n",
       "<b>G</b>1<b>X</b>0.0<b>Y</b>100.0<b>F</b>200.0<br>\n",
       "<b>M</b>5<br>\n",
       "<b>G</b>0<b>X</b>10.0<b>Y</b>0.0<br>\n",
       "<b>M</b>4<b>S</b>200.0<br>\n",
       "<b>G</b>1<b>X</b>10.0<b>Y</b>100.0<b>F</b>200.0<br>\n",
       "<b>M</b>5<br>\n",
       "<b>G</b>0<b>X</b>20.0<b>Y</b>0.0<br>\n",
       "<b>M</b>4<b>S</b>200.0<br>\n",
       "<b>G</b>1<b>X</b>20.0<b>Y</b>100.0<b>F</b>200.0<br>\n",
       "<b>M</b>5<br>\n",
       "<b>G</b>0<b>X</b>30.0<b>Y</b>0.0<br>\n",
       "<b>M</b>4<b>S</b>200.0<br>\n",
       "<b>G</b>1<b>X</b>30.0<b>Y</b>100.0<b>F</b>200.0<br>\n",
       "<b>M</b>5<br>\n",
       "<b>G</b>0<b>X</b>40.0<b>Y</b>0.0<br>\n",
       "<b>M</b>4<b>S</b>200.0<br>\n",
       "<b>G</b>1<b>X</b>40.0<b>Y</b>100.0<b>F</b>200.0<br>\n",
       "<b>M</b>5<br>\n",
       "<b>G</b>0<b>X</b>50.0<b>Y</b>0.0<br>\n",
       "<b>M</b>4<b>S</b>200.0<br>\n",
       "<b>G</b>1<b>X</b>50.0<b>Y</b>100.0<b>F</b>200.0<br>\n",
       "<b>M</b>5<br>\n",
       "<b>G</b>0<b>X</b>60.0<b>Y</b>0.0<br>\n",
       "<b>M</b>4<b>S</b>200.0<br>\n",
       "<b>G</b>1<b>X</b>60.0<b>Y</b>100.0<b>F</b>200.0<br>\n",
       "<b>M</b>5<br>\n",
       "<b>G</b>0<b>X</b>70.0<b>Y</b>0.0<br>\n",
       "<b>M</b>4<b>S</b>200.0<br>\n",
       "<b>G</b>1<b>X</b>70.0<b>Y</b>100.0<b>F</b>200.0<br>\n",
       "<b>M</b>5<br>\n",
       "<b>G</b>0<b>X</b>80.0<b>Y</b>0.0<br>\n",
       "<b>M</b>4<b>S</b>200.0<br>\n",
       "<b>G</b>1<b>X</b>80.0<b>Y</b>100.0<b>F</b>200.0<br>\n",
       "<b>M</b>5<br>\n",
       "<b>G</b>0<b>X</b>90.0<b>Y</b>0.0<br>\n",
       "<b>M</b>4<b>S</b>200.0<br>\n",
       "<b>G</b>1<b>X</b>90.0<b>Y</b>100.0<b>F</b>200.0<br>\n",
       "<b>M</b>5<br>\n",
       "<b>G</b>0<b>X</b>100.0<b>Y</b>0.0<br>\n",
       "<b>M</b>4<b>S</b>200.0<br>\n",
       "<b>G</b>1<b>X</b>100.0<b>Y</b>100.0<b>F</b>200.0<br>\n",
       "<b>M</b>5<br>\n",
       "<b>G</b>0<b>X</b>0.0<b>Y</b>5.0<br>\n",
       "<b>M</b>4<b>S</b>200.0<br>\n",
       "<b>G</b>1<b>X</b>100.0<b>Y</b>5.0<b>F</b>200.0<br>\n",
       "<b>M</b>5<br>\n",
       "<b>G</b>0<b>X</b>0.0<b>Y</b>5.0<br>\n",
       "<b>M</b>4<b>S</b>200.0<br>\n",
       "<b>G</b>1<b>X</b>100.0<b>Y</b>5.0<b>F</b>200.0<br>\n",
       "<b>M</b>5<br>\n",
       "<b>G</b>0<b>X</b>0.0<b>Y</b>5.0<br>\n",
       "<b>M</b>4<b>S</b>200.0<br>\n",
       "<b>G</b>1<b>X</b>100.0<b>Y</b>5.0<b>F</b>200.0<br>\n",
       "<b>M</b>5<br>\n",
       "<b>G</b>0<b>X</b>0.0<b>Y</b>5.0<br>\n",
       "<b>M</b>4<b>S</b>200.0<br>\n",
       "<b>G</b>1<b>X</b>100.0<b>Y</b>5.0<b>F</b>200.0<br>\n",
       "<b>M</b>5<br>\n",
       "<b>G</b>0<b>X</b>0.0<b>Y</b>5.0<br>\n",
       "<b>M</b>4<b>S</b>200.0<br>\n",
       "<b>G</b>1<b>X</b>100.0<b>Y</b>5.0<b>F</b>200.0<br>\n",
       "<b>M</b>5<br>\n",
       "<b>G</b>0<b>X</b>0.0<b>Y</b>5.0<br>\n",
       "<b>M</b>4<b>S</b>200.0<br>\n",
       "<b>G</b>1<b>X</b>100.0<b>Y</b>5.0<b>F</b>200.0<br>\n",
       "<b>M</b>5<br>\n",
       "<b>G</b>0<b>X</b>0.0<b>Y</b>5.0<br>\n",
       "<b>M</b>4<b>S</b>200.0<br>\n",
       "<b>G</b>1<b>X</b>100.0<b>Y</b>5.0<b>F</b>200.0<br>\n",
       "<b>M</b>5<br>\n",
       "<b>G</b>0<b>X</b>0.0<b>Y</b>5.0<br>\n",
       "<b>M</b>4<b>S</b>200.0<br>\n",
       "<b>G</b>1<b>X</b>100.0<b>Y</b>5.0<b>F</b>200.0<br>\n",
       "<b>M</b>5<br>\n",
       "<b>G</b>0<b>X</b>0.0<b>Y</b>5.0<br>\n",
       "<b>M</b>4<b>S</b>200.0<br>\n",
       "<b>G</b>1<b>X</b>100.0<b>Y</b>5.0<b>F</b>200.0<br>\n",
       "<b>M</b>5<br>\n",
       "<b>G</b>0<b>X</b>0.0<b>Y</b>5.0<br>\n",
       "<b>M</b>4<b>S</b>200.0<br>\n",
       "<b>G</b>1<b>X</b>100.0<b>Y</b>5.0<b>F</b>200.0<br>\n",
       "<b>M</b>5<br>\n",
       "<b>G</b>0<b>X</b>0.0<b>Y</b>5.0<br>\n",
       "<b>M</b>4<b>S</b>200.0<br>\n",
       "<b>G</b>1<b>X</b>100.0<b>Y</b>5.0<b>F</b>200.0<br>\n",
       "<b>M</b>5"
      ],
      "text/plain": [
       "<GCode>[cmds=91]"
      ]
     },
     "execution_count": 11,
     "metadata": {},
     "output_type": "execute_result"
    }
   ],
   "source": [
    "power = 200\n",
    "feed = 200\n",
    "grid_size = 100\n",
    "\n",
    "grid = gcode.GCode()\n",
    "grid.G92(X=0, Y=0)\n",
    "grid.G21()\n",
    "grid.G90()\n",
    "for vline_x in np.arange(0, grid_size+1, 10):\n",
    "    pts=gcode.vline(X=vline_x, Y0=0, Yf=grid_size)\n",
    "    grid+=gcode.Line(pts, power=power, feed=feed)\n",
    "\n",
    "for hline_y in np.arange(0, grid_size+1, 10):\n",
    "    pts=gcode.hline(X0=0, Xf=100, Y=5, n_points=2)\n",
    "    grid+=gcode.Line(pts, power=power, feed=feed)\n",
    "    \n",
    "ruler"
   ]
  },
  {
   "cell_type": "code",
   "execution_count": 12,
   "metadata": {},
   "outputs": [],
   "source": [
    "import grbl"
   ]
  },
  {
   "cell_type": "code",
   "execution_count": 9,
   "metadata": {},
   "outputs": [],
   "source": [
    "cnc = grbl.Grbl(\"/dev/ttyUSB0\")"
   ]
  },
  {
   "cell_type": "code",
   "execution_count": 13,
   "metadata": {},
   "outputs": [
    {
     "name": "stderr",
     "output_type": "stream",
     "text": [
      "100%|██████████| 91/91 [15:07<00:00,  9.97s/it]\n"
     ]
    },
    {
     "name": "stdout",
     "output_type": "stream",
     "text": [
      "..................................................................................."
     ]
    },
    {
     "data": {
      "text/plain": [
       "938.1166489124298"
      ]
     },
     "execution_count": 13,
     "metadata": {},
     "output_type": "execute_result"
    }
   ],
   "source": [
    "cnc.run(grid)"
   ]
  },
  {
   "cell_type": "code",
   "execution_count": null,
   "metadata": {},
   "outputs": [],
   "source": []
  }
 ],
 "metadata": {
  "kernelspec": {
   "display_name": "Python 3",
   "language": "python",
   "name": "python3"
  },
  "language_info": {
   "codemirror_mode": {
    "name": "ipython",
    "version": 3
   },
   "file_extension": ".py",
   "mimetype": "text/x-python",
   "name": "python",
   "nbconvert_exporter": "python",
   "pygments_lexer": "ipython3",
   "version": "3.7.3"
  }
 },
 "nbformat": 4,
 "nbformat_minor": 2
}
