{
 "cells": [
  {
   "cell_type": "markdown",
   "metadata": {},
   "source": [
    "## Line class.\n",
    "\n",
    "A class to make lines with a laser."
   ]
  },
  {
   "cell_type": "code",
   "execution_count": 1,
   "metadata": {},
   "outputs": [],
   "source": [
    "# Imports and autoreload for development\n",
    "%load_ext autoreload\n",
    "%autoreload 2\n",
    "import gcode"
   ]
  },
  {
   "cell_type": "code",
   "execution_count": 2,
   "metadata": {},
   "outputs": [],
   "source": [
    "import grbl"
   ]
  },
  {
   "cell_type": "markdown",
   "metadata": {},
   "source": [
    "Default laser line:\n",
    "\n",
    "- (0, 0) to (10, 0).\n",
    "- Laser Power = 1.\n",
    "- Speed 300 mm/s."
   ]
  },
  {
   "cell_type": "code",
   "execution_count": 3,
   "metadata": {},
   "outputs": [
    {
     "data": {
      "text/html": [
       "<b>G</b>0<b>X</b>0.0<b>Y</b>0.0<br>\n",
       "<b>M</b>4<b>S</b>1.0<br>\n",
       "<b>G</b>1<b>X</b>10.0<b>Y</b>0.0<b>F</b>300.0<br>\n",
       "<b>M</b>5"
      ],
      "text/plain": [
       "Line<len=10.0mm, feed=300, power=1>"
      ]
     },
     "execution_count": 3,
     "metadata": {},
     "output_type": "execute_result"
    }
   ],
   "source": [
    "gcode.Line()"
   ]
  },
  {
   "cell_type": "markdown",
   "metadata": {},
   "source": [
    "Default line uses hline to generate the points, hline & vline generate points for horizontal and vertical lines, respectively."
   ]
  },
  {
   "cell_type": "code",
   "execution_count": 4,
   "metadata": {},
   "outputs": [
    {
     "data": {
      "text/plain": [
       "array([[ 0.,  0.],\n",
       "       [10.,  0.]])"
      ]
     },
     "execution_count": 4,
     "metadata": {},
     "output_type": "execute_result"
    }
   ],
   "source": [
    "gcode.hline?\n",
    "gcode.hline()"
   ]
  },
  {
   "cell_type": "code",
   "execution_count": 11,
   "metadata": {},
   "outputs": [
    {
     "data": {
      "text/plain": [
       "array([[ 0.,  0.],\n",
       "       [ 0., 10.]])"
      ]
     },
     "execution_count": 11,
     "metadata": {},
     "output_type": "execute_result"
    }
   ],
   "source": [
    "gcode.vline?\n",
    "gcode.vline()"
   ]
  },
  {
   "cell_type": "code",
   "execution_count": 5,
   "metadata": {},
   "outputs": [
    {
     "data": {
      "text/html": [
       "<b>G</b>0<b>X</b>0.0<b>Y</b>0.0<br>\n",
       "<b>M</b>4<b>S</b>255.0<br>\n",
       "<b>G</b>1<b>X</b>430.0<b>Y</b>0.0<b>F</b>300.0<br>\n",
       "<b>M</b>5"
      ],
      "text/plain": [
       "Line<len=430.0mm, feed=300, power=255>"
      ]
     },
     "execution_count": 5,
     "metadata": {},
     "output_type": "execute_result"
    }
   ],
   "source": [
    "gcode.Line(points=gcode.hline(Xf=430), power=255, feed=300)"
   ]
  },
  {
   "cell_type": "code",
   "execution_count": 6,
   "metadata": {},
   "outputs": [],
   "source": [
    "cnc=grbl.Grbl(port=\"/dev/ttyUSB0\")"
   ]
  },
  {
   "cell_type": "code",
   "execution_count": 7,
   "metadata": {},
   "outputs": [],
   "source": [
    "l = gcode.Line(points=gcode.hline(Xf=430), power=255, feed=300)"
   ]
  },
  {
   "cell_type": "code",
   "execution_count": 9,
   "metadata": {},
   "outputs": [
    {
     "name": "stderr",
     "output_type": "stream",
     "text": [
      "100%|██████████| 4/4 [00:00<00:00,  9.10it/s]\n"
     ]
    },
    {
     "name": "stdout",
     "output_type": "stream",
     "text": [
      "^C\n"
     ]
    },
    {
     "data": {
      "text/plain": [
       "69.70829892158508"
      ]
     },
     "execution_count": 9,
     "metadata": {},
     "output_type": "execute_result"
    }
   ],
   "source": [
    "cnc.run(l)"
   ]
  },
  {
   "cell_type": "markdown",
   "metadata": {},
   "source": [
    "Configure laser power, feed and enable dynamic power for Grbl."
   ]
  },
  {
   "cell_type": "code",
   "execution_count": 14,
   "metadata": {},
   "outputs": [
    {
     "data": {
      "text/html": [
       "<b>G</b>0<b>X</b>0.0<b>Y</b>0.0<br>\n",
       "<b>M</b>4<b>S</b>127.0<br>\n",
       "<b>G</b>1<b>X</b>10.0<b>Y</b>0.0<b>F</b>100.0<br>\n",
       "<b>M</b>5"
      ],
      "text/plain": [
       "Line<len=10.0mm, feed=100, power=127>"
      ]
     },
     "execution_count": 14,
     "metadata": {},
     "output_type": "execute_result"
    }
   ],
   "source": [
    "gcode.Line(points=gcode.hline(), power=127, feed=100, dynamic_power=True)"
   ]
  },
  {
   "cell_type": "code",
   "execution_count": 19,
   "metadata": {},
   "outputs": [
    {
     "data": {
      "text/html": [
       "<b>G</b>0<b>X</b>0.0<b>Y</b>0.0<br>\n",
       "<b>M</b>3<b>S</b>127.0<br>\n",
       "<b>G</b>1<b>X</b>10.0<b>Y</b>0.0<b>F</b>100.0<br>\n",
       "<b>M</b>5"
      ],
      "text/plain": [
       "Line<len=10.0mm, feed=100, power=127>"
      ]
     },
     "execution_count": 19,
     "metadata": {},
     "output_type": "execute_result"
    }
   ],
   "source": [
    "gcode.Line(points=gcode.hline(), power=127, feed=100, dynamic_power=False)"
   ]
  },
  {
   "cell_type": "code",
   "execution_count": 20,
   "metadata": {},
   "outputs": [
    {
     "data": {
      "text/html": [
       "<b>G</b>0<b>X</b>1.0<b>Y</b>2.0<br>\n",
       "<b>M</b>3<b>S</b>127.0<br>\n",
       "<b>G</b>1<b>X</b>5.0<b>Y</b>2.0<b>F</b>100.0<br>\n",
       "<b>M</b>5"
      ],
      "text/plain": [
       "Line<len=4.0mm, feed=100, power=127>"
      ]
     },
     "execution_count": 20,
     "metadata": {},
     "output_type": "execute_result"
    }
   ],
   "source": [
    "gcode.Line(points=gcode.hline(X0=1, Xf=5, Y=2, n_points=2), power=127, feed=100, dynamic_power=False)"
   ]
  },
  {
   "cell_type": "code",
   "execution_count": 21,
   "metadata": {},
   "outputs": [
    {
     "data": {
      "text/html": [
       "<b>G</b>0<b>X</b>1.0<b>Y</b>2.0<br>\n",
       "<b>M</b>3<b>S</b>127.0<br>\n",
       "<b>G</b>1<b>X</b>1.5<b>Y</b>2.0<b>F</b>100.0<br>\n",
       "<b>G</b>1<b>X</b>2.0<b>Y</b>2.0<b>F</b>100.0<br>\n",
       "<b>G</b>1<b>X</b>2.5<b>Y</b>2.0<b>F</b>100.0<br>\n",
       "<b>G</b>1<b>X</b>3.0<b>Y</b>2.0<b>F</b>100.0<br>\n",
       "<b>G</b>1<b>X</b>3.5<b>Y</b>2.0<b>F</b>100.0<br>\n",
       "<b>G</b>1<b>X</b>4.0<b>Y</b>2.0<b>F</b>100.0<br>\n",
       "<b>G</b>1<b>X</b>4.5<b>Y</b>2.0<b>F</b>100.0<br>\n",
       "<b>G</b>1<b>X</b>5.0<b>Y</b>2.0<b>F</b>100.0<br>\n",
       "<b>M</b>5"
      ],
      "text/plain": [
       "Line<len=4.0mm, feed=100, power=127>"
      ]
     },
     "execution_count": 21,
     "metadata": {},
     "output_type": "execute_result"
    }
   ],
   "source": [
    "gcode.Line(points=gcode.hline(X0=1, Xf=5, Y=2, n_points=9), power=127, feed=100, dynamic_power=False)"
   ]
  }
 ],
 "metadata": {
  "kernelspec": {
   "display_name": "Python 3",
   "language": "python",
   "name": "python3"
  },
  "language_info": {
   "codemirror_mode": {
    "name": "ipython",
    "version": 3
   },
   "file_extension": ".py",
   "mimetype": "text/x-python",
   "name": "python",
   "nbconvert_exporter": "python",
   "pygments_lexer": "ipython3",
   "version": "3.7.3"
  }
 },
 "nbformat": 4,
 "nbformat_minor": 2
}
