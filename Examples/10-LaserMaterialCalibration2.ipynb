{
 "cells": [
  {
   "cell_type": "markdown",
   "metadata": {},
   "source": [
    "## Laser Calibration ```gcode``` examples.\n",
    "\n",
    "Some code to 'calibrate' laser settings to a material."
   ]
  },
  {
   "cell_type": "code",
   "execution_count": 5,
   "metadata": {},
   "outputs": [
    {
     "name": "stdout",
     "output_type": "stream",
     "text": [
      "The autoreload extension is already loaded. To reload it, use:\n",
      "  %reload_ext autoreload\n"
     ]
    }
   ],
   "source": [
    "# Imports and autoreload for development\n",
    "%load_ext autoreload\n",
    "%autoreload 2\n",
    "import gcode"
   ]
  },
  {
   "cell_type": "code",
   "execution_count": 6,
   "metadata": {},
   "outputs": [],
   "source": [
    "import grbl\n",
    "cnc = grbl.Grbl(port=\"/dev/ttyUSB0\")"
   ]
  },
  {
   "cell_type": "markdown",
   "metadata": {},
   "source": [
    "## Point Calibration.\n",
    "\n",
    "Vary laser power & dwell times in a grid with 5mmx5mm spacing"
   ]
  },
  {
   "cell_type": "code",
   "execution_count": 26,
   "metadata": {},
   "outputs": [],
   "source": [
    "# Create an empty GCode program.\n",
    "prog = gcode.GCode(machine=cnc)\n",
    "prog.G21()\n",
    "prog.G90()\n",
    "prog.G92(X=0, Y=0)\n",
    "prog.G1(F=200)\n",
    "prog.G0(F=200)\n",
    "spacing = 5\n",
    "for y, dwell in enumerate([0.5, 1, 2, 5, 10]):\n",
    "    for x, power in enumerate([100, 150, 200, 250]):\n",
    "        prog.G0(X=x*spacing, Y=y*spacing)\n",
    "        prog.M3(S=power)\n",
    "        prog.G1(X=x*spacing, Y=y*spacing)\n",
    "        prog.G4(P=dwell)\n",
    "        prog.M5()"
   ]
  },
  {
   "cell_type": "code",
   "execution_count": 22,
   "metadata": {},
   "outputs": [
    {
     "data": {
      "text/plain": [
       "'<Hold:0|WPos:39.996,95.004,0.000|Bf:15,114|FS:0,0|Ov:100,100,100>'"
      ]
     },
     "execution_count": 22,
     "metadata": {},
     "output_type": "execute_result"
    }
   ],
   "source": [
    "cnc.status"
   ]
  },
  {
   "cell_type": "code",
   "execution_count": 23,
   "metadata": {},
   "outputs": [
    {
     "data": {
      "text/plain": [
       "(0, ['', \"Grbl 1.1g ['$' for help]\", 'ok'])"
      ]
     },
     "execution_count": 23,
     "metadata": {},
     "output_type": "execute_result"
    }
   ],
   "source": [
    "cnc.reset()"
   ]
  },
  {
   "cell_type": "code",
   "execution_count": 24,
   "metadata": {},
   "outputs": [
    {
     "data": {
      "text/plain": [
       "'<Idle|WPos:39.996,95.004,0.000|Bf:15,127|FS:0,0|WCO:0.000,0.000,0.000>'"
      ]
     },
     "execution_count": 24,
     "metadata": {},
     "output_type": "execute_result"
    }
   ],
   "source": [
    "cnc.status"
   ]
  },
  {
   "cell_type": "code",
   "execution_count": 25,
   "metadata": {},
   "outputs": [
    {
     "data": {
      "text/plain": [
       "115.87804841995239"
      ]
     },
     "execution_count": 25,
     "metadata": {},
     "output_type": "execute_result"
    }
   ],
   "source": [
    "cnc.run(prog)"
   ]
  },
  {
   "cell_type": "markdown",
   "metadata": {},
   "source": [
    "# Line Calibration\n",
    "\n",
    "Vary feed rate, power and dynamic powering."
   ]
  },
  {
   "cell_type": "code",
   "execution_count": 7,
   "metadata": {},
   "outputs": [],
   "source": [
    "def init(**kwargs):\n",
    "    \"\"\"\n",
    "    Basic Machine Init.\n",
    "    \"\"\"\n",
    "    prog = gcode.GCode(**kwargs)\n",
    "    prog.G21()\n",
    "    prog.G90()\n",
    "    prog.G92(X=0, Y=0)\n",
    "    prog.G1(F=200)\n",
    "    prog.G0(F=200)\n",
    "    return prog"
   ]
  },
  {
   "cell_type": "markdown",
   "metadata": {},
   "source": [
    "# Coordinate Example"
   ]
  },
  {
   "cell_type": "code",
   "execution_count": 8,
   "metadata": {},
   "outputs": [],
   "source": [
    "# Create an empty GCode program with the above function, some saner defaults than an empty program.\n",
    "prog = init(machine=cnc)\n",
    "# Line spacing to use.\n",
    "line_spacing=5\n",
    "# Generate points for a 10mm line\n",
    "line_points = gcode.hline(Xf=10)\n",
    "# For each of the given powers\n",
    "for p, power in enumerate([100, 150, 175, 200, 255]):\n",
    "    # Use Absolute coordinates\n",
    "    prog.G90()\n",
    "    # Go to a the start of a row, each power has its own row.\n",
    "    prog.G0(X=0, Y=p*line_spacing)\n",
    "    # Relative coordinates for each drawn line.\n",
    "    prog.G91()\n",
    "    # Using and not using dynamic power.\n",
    "    for d, dynamic_power in enumerate([True, False]):\n",
    "        # For each of the given feed rates\n",
    "        for f, feed in enumerate([60, 120, 180, 300]): \n",
    "                line = gcode.Line(points=line_points, power=power, feed=feed, dynamic_power=dynamic_power)\n",
    "                prog+=line\n",
    "prog.G90()\n",
    "prog.G0(X=0, Y=0)"
   ]
  },
  {
   "cell_type": "code",
   "execution_count": 9,
   "metadata": {},
   "outputs": [
    {
     "data": {
      "text/plain": [
       "'<Check|WPos:0.000,0.000,0.000|Bf:15,127|FS:0,0>'"
      ]
     },
     "execution_count": 9,
     "metadata": {},
     "output_type": "execute_result"
    }
   ],
   "source": [
    "cnc.status"
   ]
  },
  {
   "cell_type": "code",
   "execution_count": 12,
   "metadata": {},
   "outputs": [
    {
     "data": {
      "text/plain": [
       "['ok', '[MSG:Disabled]', 'ok', '', \"Grbl 1.1g ['$' for help]\"]"
      ]
     },
     "execution_count": 12,
     "metadata": {},
     "output_type": "execute_result"
    }
   ],
   "source": [
    "cnc.cmd(\"$C\")"
   ]
  },
  {
   "cell_type": "code",
   "execution_count": 13,
   "metadata": {},
   "outputs": [
    {
     "name": "stdout",
     "output_type": "stream",
     "text": [
      "....."
     ]
    },
    {
     "data": {
      "text/plain": [
       "267.92051005363464"
      ]
     },
     "execution_count": 13,
     "metadata": {},
     "output_type": "execute_result"
    }
   ],
   "source": [
    "cnc.run(prog)"
   ]
  }
 ],
 "metadata": {
  "kernelspec": {
   "display_name": "Python 3",
   "language": "python",
   "name": "python3"
  },
  "language_info": {
   "codemirror_mode": {
    "name": "ipython",
    "version": 3
   },
   "file_extension": ".py",
   "mimetype": "text/x-python",
   "name": "python",
   "nbconvert_exporter": "python",
   "pygments_lexer": "ipython3",
   "version": "3.6.8"
  }
 },
 "nbformat": 4,
 "nbformat_minor": 2
}
