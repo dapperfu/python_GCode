{
 "cells": [
  {
   "cell_type": "markdown",
   "metadata": {},
   "source": [
    "## ```gcode``` examples.\n",
    "\n",
    "A short \"Hello World\" into the ``gcode`` module"
   ]
  },
  {
   "cell_type": "code",
   "execution_count": 3,
   "metadata": {},
   "outputs": [],
   "source": [
    "# Imports and autoreload for development\n",
    "%load_ext autoreload\n",
    "%autoreload 2\n",
    "import gcode"
   ]
  },
  {
   "cell_type": "markdown",
   "metadata": {},
   "source": [
    "## Create a simple GCode program."
   ]
  },
  {
   "cell_type": "code",
   "execution_count": 4,
   "metadata": {},
   "outputs": [],
   "source": [
    "# Create an empty GCode program.\n",
    "prog = gcode.GCode()"
   ]
  },
  {
   "cell_type": "code",
   "execution_count": 5,
   "metadata": {},
   "outputs": [],
   "source": [
    "# Set metric & absolute coordinates\n",
    "prog.G21()\n",
    "prog.G90()"
   ]
  },
  {
   "cell_type": "markdown",
   "metadata": {},
   "source": [
    "Display the current program:\n",
    "\n",
    "In Jupyter Notebooks it makes the **G** & **M** commands bold for readability. "
   ]
  },
  {
   "cell_type": "code",
   "execution_count": 9,
   "metadata": {},
   "outputs": [
    {
     "data": {
      "text/html": [
       "<b>G</b>21<br>\n",
       "<b>G</b>90"
      ],
      "text/plain": [
       "<GCode>[cmds=2]"
      ]
     },
     "execution_count": 9,
     "metadata": {},
     "output_type": "execute_result"
    }
   ],
   "source": [
    "prog"
   ]
  },
  {
   "cell_type": "code",
   "execution_count": 10,
   "metadata": {},
   "outputs": [
    {
     "name": "stdout",
     "output_type": "stream",
     "text": [
      "G21\n",
      "G90\n"
     ]
    }
   ],
   "source": [
    "# Program as a String\n",
    "print(prog)"
   ]
  },
  {
   "cell_type": "markdown",
   "metadata": {},
   "source": [
    "## Save Program to Disk"
   ]
  },
  {
   "cell_type": "code",
   "execution_count": 11,
   "metadata": {},
   "outputs": [],
   "source": [
    "prog.save(\"hello.ngc\")"
   ]
  },
  {
   "cell_type": "code",
   "execution_count": 12,
   "metadata": {},
   "outputs": [
    {
     "name": "stdout",
     "output_type": "stream",
     "text": [
      "; Program UUID: d69f74de-ecb8-4b70-8523-6bb759577446\r\n",
      "; Save Date: 2019-10-25T20:07:59.086935\r\n",
      "G21\r\n",
      "G90\r\n"
     ]
    }
   ],
   "source": [
    "!cat hello.ngc"
   ]
  },
  {
   "cell_type": "markdown",
   "metadata": {},
   "source": [
    "## Load Program from Disk."
   ]
  },
  {
   "cell_type": "code",
   "execution_count": 15,
   "metadata": {},
   "outputs": [
    {
     "data": {
      "text/html": [
       "<b>G</b>21<br>\n",
       "<b>G</b>90"
      ],
      "text/plain": [
       "<GCode>[cmds=2]"
      ]
     },
     "execution_count": 15,
     "metadata": {},
     "output_type": "execute_result"
    }
   ],
   "source": [
    "prog2=gcode.GCode(file=\"hello.ngc\")\n",
    "prog2"
   ]
  },
  {
   "cell_type": "markdown",
   "metadata": {},
   "source": [
    "# Passing commands with arguments."
   ]
  },
  {
   "cell_type": "code",
   "execution_count": 43,
   "metadata": {},
   "outputs": [
    {
     "data": {
      "text/html": [],
      "text/plain": [
       "<GCode>[cmds=0]"
      ]
     },
     "execution_count": 43,
     "metadata": {},
     "output_type": "execute_result"
    }
   ],
   "source": [
    "prog=gcode.GCode()\n",
    "prog"
   ]
  },
  {
   "cell_type": "code",
   "execution_count": 44,
   "metadata": {},
   "outputs": [
    {
     "data": {
      "text/html": [
       "<b>G</b>92<b>X</b>0.0<b>Y</b>0.0<b>Z</b>0.0"
      ],
      "text/plain": [
       "<GCode>[cmds=1]"
      ]
     },
     "execution_count": 44,
     "metadata": {},
     "output_type": "execute_result"
    }
   ],
   "source": [
    "prog.G92(X=0,Y=0,Z=0)\n",
    "prog"
   ]
  },
  {
   "cell_type": "code",
   "execution_count": 31,
   "metadata": {},
   "outputs": [],
   "source": [
    "prog.G0(X=0,Y=0, F=120)"
   ]
  },
  {
   "cell_type": "code",
   "execution_count": 32,
   "metadata": {},
   "outputs": [
    {
     "data": {
      "text/html": [
       "<b>G</b>92<b>X</b>0.0<b>Y</b>0.0<b>Z</b>0.0<br>\n",
       "<b>G</b>0<b>X</b>0.0<b>Y</b>0.0<b>F</b>120.0"
      ],
      "text/plain": [
       "<GCode>[cmds=2]"
      ]
     },
     "execution_count": 32,
     "metadata": {},
     "output_type": "execute_result"
    }
   ],
   "source": [
    "prog"
   ]
  },
  {
   "cell_type": "code",
   "execution_count": 33,
   "metadata": {},
   "outputs": [],
   "source": [
    "# Enable Laser on low power\n",
    "prog.M3(S=50)"
   ]
  },
  {
   "cell_type": "code",
   "execution_count": 34,
   "metadata": {},
   "outputs": [
    {
     "data": {
      "text/html": [
       "<b>G</b>92<b>X</b>0.0<b>Y</b>0.0<b>Z</b>0.0<br>\n",
       "<b>G</b>0<b>X</b>0.0<b>Y</b>0.0<b>F</b>120.0<br>\n",
       "<b>M</b>3<b>S</b>50.0"
      ],
      "text/plain": [
       "<GCode>[cmds=3]"
      ]
     },
     "execution_count": 34,
     "metadata": {},
     "output_type": "execute_result"
    }
   ],
   "source": [
    "prog"
   ]
  },
  {
   "cell_type": "code",
   "execution_count": 35,
   "metadata": {},
   "outputs": [],
   "source": [
    "# Draw a line to X=10, Y=5\n",
    "prog.G1(X=10, Y=5, F=120)\n",
    "# Power off laser.\n",
    "prog.M5()"
   ]
  },
  {
   "cell_type": "code",
   "execution_count": 36,
   "metadata": {},
   "outputs": [
    {
     "data": {
      "text/html": [
       "<b>G</b>92<b>X</b>0.0<b>Y</b>0.0<b>Z</b>0.0<br>\n",
       "<b>G</b>0<b>X</b>0.0<b>Y</b>0.0<b>F</b>120.0<br>\n",
       "<b>M</b>3<b>S</b>50.0<br>\n",
       "<b>G</b>1<b>X</b>10.0<b>Y</b>5.0<b>F</b>120.0<br>\n",
       "<b>M</b>5"
      ],
      "text/plain": [
       "<GCode>[cmds=5]"
      ]
     },
     "execution_count": 36,
     "metadata": {},
     "output_type": "execute_result"
    }
   ],
   "source": [
    "prog"
   ]
  },
  {
   "cell_type": "markdown",
   "metadata": {},
   "source": [
    "### Run Directly\n",
    "\n",
    "With ```grbl``` python module, run the program directly on a machine."
   ]
  },
  {
   "cell_type": "code",
   "execution_count": 37,
   "metadata": {},
   "outputs": [],
   "source": [
    "import grbl"
   ]
  },
  {
   "cell_type": "code",
   "execution_count": 38,
   "metadata": {},
   "outputs": [],
   "source": [
    "cnc = grbl.Grbl(port=\"/dev/ttyUSB0\")"
   ]
  },
  {
   "cell_type": "code",
   "execution_count": 39,
   "metadata": {},
   "outputs": [
    {
     "name": "stdout",
     "output_type": "stream",
     "text": [
      "..............."
     ]
    },
    {
     "data": {
      "text/plain": [
       "6.570643186569214"
      ]
     },
     "execution_count": 39,
     "metadata": {},
     "output_type": "execute_result"
    }
   ],
   "source": [
    "cnc.run(prog)"
   ]
  },
  {
   "cell_type": "code",
   "execution_count": 40,
   "metadata": {},
   "outputs": [
    {
     "data": {
      "text/plain": [
       "'<Idle|WPos:9.996,5.004,0.000|Bf:15,127|FS:0,0>'"
      ]
     },
     "execution_count": 40,
     "metadata": {},
     "output_type": "execute_result"
    }
   ],
   "source": [
    "cnc.status"
   ]
  },
  {
   "cell_type": "markdown",
   "metadata": {},
   "source": [
    "## GCode generated elsewhere.\n",
    "\n",
    "Generated from Inkscape's Export Laser GCode function."
   ]
  },
  {
   "cell_type": "code",
   "execution_count": 61,
   "metadata": {},
   "outputs": [],
   "source": [
    "def init(**kwargs):\n",
    "    \"\"\"\n",
    "    Basic Machine Init.\n",
    "    \"\"\"\n",
    "    prog = gcode.GCode(**kwargs)\n",
    "    prog.G21()\n",
    "    prog.G90()\n",
    "    prog.G92(X=0, Y=0)\n",
    "    prog.G1(F=200)\n",
    "    prog.G0(F=200)\n",
    "    return prog"
   ]
  },
  {
   "cell_type": "code",
   "execution_count": null,
   "metadata": {},
   "outputs": [],
   "source": [
    "!ls spiral_0001.ngc"
   ]
  },
  {
   "cell_type": "code",
   "execution_count": 65,
   "metadata": {},
   "outputs": [
    {
     "data": {
      "text/html": [
       "<b>G</b>21<br>\n",
       "<b>G</b>90<br>\n",
       "<b>G</b>92<b>X</b>0.0<b>Y</b>0.0<br>\n",
       "<b>G</b>1<b>F</b>200.0<br>\n",
       "<b>G</b>0<b>F</b>200.0<br>\n",
       "<b>M</b>05<b>S</b>0<br>\n",
       "<b>G</b>90<br>\n",
       "<b>G</b>21<br>\n",
       "<b>G</b>1<b>F</b>3000<br>\n",
       "<b>G</b>1<b>X</b>22.6548<b>Y</b>20.3372<br>\n",
       "<b>M</b>03<b>S</b>200<br>\n",
       "<b>G</b>1<b>F</b>100.000000<br>\n",
       "<b>G</b>2<b>X</b>22.6175<b>Y</b>18.8208<b>0</b>.5638<b>0</b>.7448<br>\n",
       "<b>G</b>2<b>X</b>21.2329<b>Y</b>18.4539<b>1</b>.2117<b>J</b>1.7762<br>\n",
       "<b>G</b>2<b>X</b>18.8744<b>Y</b>20.2946<b>I</b>0.2188<b>J</b>2.7117<br>\n",
       "<b>G</b>2<b>X</b>18.893<b>Y</b>23.1849<b>I</b>4.1966<b>J</b>1.4181<br>\n",
       "<b>G</b>2<b>X</b>22.3265<b>Y</b>26.3818<b>I</b>4.7698<b>1</b>.6806<br>\n",
       "<b>G</b>2<b>X</b>26.9208<b>Y</b>25.9873<b>I</b>1.7619<b>6</b>.4309<br>\n",
       "<b>G</b>2<b>X</b>30.9923<b>Y</b>20.9817<b>3</b>.1557<b>6</b>.7256<br>\n",
       "<b>G</b>2<b>X</b>30.1786<b>Y</b>14.642<b>8</b>.7952<b>2</b>.0931<br>\n",
       "<b>G</b>2<b>X</b>23.6138<b>Y</b>9.6719<b>8</b>.6468<b>J</b>4.6006<br>\n",
       "<b>G</b>2<b>X</b>15.5449<b>Y</b>10.9205<b>2</b>.4139<b>J</b>11.0967<br>\n",
       "<b>G</b>2<b>X</b>9.6788<b>Y</b>19.0516<b>I</b>6.0599<b>J</b>10.5535<br>\n",
       "<b>G</b>2<b>X</b>11.3693<b>Y</b>28.8801<b>I</b>13.4882<b>J</b>2.7397<br>\n",
       "<b>G</b>2<b>X</b>21.0527<b>Y</b>35.6573<b>I</b>12.4482<b>7</b>.4797<br>\n",
       "<b>G</b>2<b>X</b>32.6087<b>Y</b>33.5207<b>I</b>3.0589<b>1</b>5.774<br>\n",
       "<b>G</b>2<b>X</b>40.2869<b>Y</b>22.2695<b>8</b>.938<b>1</b>4.3452<br>\n",
       "<b>G</b>2<b>X</b>37.7023<b>Y</b>8.9468<b>1</b>8.1799<b>3</b>.3852<br>\n",
       "<b>G</b>2<b>X</b>24.9031<b>Y</b>0.3521<b>1</b>6.2298<b>J</b>10.3419<br>\n",
       "<b>G</b>2<b>X</b>9.857<b>Y</b>3.3871<b>3</b>.7044<b>J</b>20.4483<br>\n",
       "<b>G</b>2<b>X</b>0.3603<b>Y</b>17.7565<b>I</b>11.8049<b>J</b>18.1247<br>\n",
       "<b>G</b>2<b>X</b>3.8456<b>Y</b>34.5753<b>I</b>22.8687<b>J</b>4.0315<br>\n",
       "<b>G</b>2<b>X</b>19.7595<b>Y</b>44.9917<b>I</b>20.0036<b>1</b>3.1963<br>\n",
       "<b>G</b>2<b>X</b>38.2966<b>Y</b>41.0541<b>I</b>4.3508<b>2</b>5.1203<br>\n",
       "<b>G</b>2<b>X</b>49.615<b>Y</b>23.5671<b>1</b>4.6662<b>2</b>1.899<br>\n",
       "<b>G</b>2<b>X</b>45.226<b>Y</b>3.2515<b>2</b>7.5556<b>4</b>.6787<br>\n",
       "<b>M</b>05<br>\n",
       "<b>G</b>1<b>F</b>3000.00<br>\n",
       "<b>G</b>1<b>X</b>0<b>Y</b>0<br>\n",
       "<b>M</b>18"
      ],
      "text/plain": [
       "<GCode>[cmds=40]"
      ]
     },
     "execution_count": 65,
     "metadata": {},
     "output_type": "execute_result"
    }
   ],
   "source": [
    "spiral=init(machine=cnc)+gcode.GCode(file=\"spiral_0001.ngc\", machine=cnc)\n",
    "spiral"
   ]
  },
  {
   "cell_type": "code",
   "execution_count": 66,
   "metadata": {},
   "outputs": [
    {
     "data": {
      "text/plain": [
       "'<Idle|WPos:0.000,0.000,0.000|Bf:15,127|FS:0,0>'"
      ]
     },
     "execution_count": 66,
     "metadata": {},
     "output_type": "execute_result"
    }
   ],
   "source": [
    "cnc.run(init())\n",
    "cnc.status"
   ]
  },
  {
   "cell_type": "code",
   "execution_count": 67,
   "metadata": {},
   "outputs": [
    {
     "name": "stdout",
     "output_type": "stream",
     "text": [
      "................"
     ]
    }
   ],
   "source": [
    "spiral.run()"
   ]
  },
  {
   "cell_type": "code",
   "execution_count": 68,
   "metadata": {},
   "outputs": [
    {
     "data": {
      "text/html": [
       "<b>G</b>21<br>\n",
       "<b>G</b>90<br>\n",
       "<b>G</b>92<b>X</b>0.0<b>Y</b>0.0<br>\n",
       "<b>G</b>1<b>F</b>200.0<br>\n",
       "<b>G</b>0<b>F</b>200.0<br>\n",
       "<b>M</b>05<b>S</b>0<br>\n",
       "<b>G</b>90<br>\n",
       "<b>G</b>21<br>\n",
       "<b>G</b>1<b>F</b>3000<br>\n",
       "<b>G</b>1<b>X</b>19.0893<b>0</b>.<br>\n",
       "<b>M</b>03<b>S</b>255<br>\n",
       "<b>G</b>1<b>F</b>100.000000<br>\n",
       "<b>G</b>2<b>X</b>15.7282<b>Y</b>1.3924<b>I</b>0.<b>J</b>4.7529<br>\n",
       "<b>G</b>2<b>X</b>14.336<b>Y</b>4.7539<b>I</b>3.3622<b>J</b>3.3614<br>\n",
       "<b>G</b>2<b>X</b>15.7281<b>Y</b>8.1151<b>I</b>4.7538<b>J</b>0.<br>\n",
       "<b>G</b>2<b>X</b>19.0893<b>Y</b>9.5075<b>I</b>3.3612<b>3</b>.3607<br>\n",
       "<b>G</b>2<b>X</b>19.2638<b>Y</b>9.5001<b>0</b>.<b>2</b>.0676<br>\n",
       "<b>G</b>3<b>X</b>19.4352<b>Y</b>9.4865<b>I</b>1.3238<b>J</b>15.6315<br>\n",
       "<b>G</b>1<b>X</b>21.8066<b>Y</b>29.1491<br>\n",
       "<b>G</b>1<b>X</b>7.7125<b>Y</b>45.1725<br>\n",
       "<b>G</b>2<b>X</b>6.3761<b>Y</b>44.414<b>3</b>.0382<b>J</b>3.7968<br>\n",
       "<b>G</b>2<b>X</b>4.7538<b>Y</b>44.1209<b>1</b>.6224<b>J</b>4.3425<br>\n",
       "<b>G</b>2<b>X</b>1.3922<b>Y</b>45.5132<b>0</b>.<b>J</b>4.7541<br>\n",
       "<b>G</b>2<b>0</b>.0001<b>Y</b>48.8745<b>I</b>3.3611<b>J</b>3.3613<br>\n",
       "<b>G</b>2<b>X</b>1.3923<b>Y</b>52.2358<b>I</b>4.7534<b>0</b>.<br>\n",
       "<b>G</b>2<b>X</b>4.7538<b>Y</b>53.6281<b>I</b>3.3615<b>3</b>.3618<br>\n",
       "<b>G</b>2<b>X</b>7.7274<b>Y</b>52.5744<b>I</b>0.<b>4</b>.723<br>\n",
       "<b>G</b>2<b>X</b>9.3564<b>Y</b>50.0069<b>3</b>.0034<b>3</b>.7061<br>\n",
       "<b>G</b>1<b>X</b>28.7947<b>Y</b>53.8288<br>\n",
       "<b>G</b>1<b>X</b>39.6758<b>Y</b>72.18<br>\n",
       "<b>G</b>2<b>X</b>38.1424<b>Y</b>73.8222<b>I</b>2.6424<b>J</b>4.0042<br>\n",
       "<b>G</b>2<b>X</b>37.5316<b>Y</b>76.1429<b>I</b>4.1028<b>J</b>2.3207<br>\n",
       "<b>G</b>2<b>X</b>38.9239<b>Y</b>79.5043<b>I</b>4.7536<b>0</b>.<br>\n",
       "<b>G</b>2<b>X</b>42.2852<b>Y</b>80.8965<b>I</b>3.3612<b>3</b>.3614<br>\n",
       "<b>G</b>2<b>X</b>45.6465<b>Y</b>79.5042<b>I</b>0.<b>4</b>.7536<br>\n",
       "<b>G</b>2<b>X</b>47.0388<b>Y</b>76.1429<b>3</b>.3613<b>3</b>.3613<br>\n",
       "<b>G</b>2<b>X</b>46.3959<b>Y</b>73.7665<b>4</b>.7136<b>J</b>0.<br>\n",
       "<b>G</b>2<b>X</b>44.7869<b>Y</b>72.1116<b>4</b>.1434<b>J</b>2.4188<br>\n",
       "<b>G</b>1<b>X</b>54.4262<b>Y</b>54.8094<br>\n",
       "<b>G</b>1<b>X</b>75.2457<b>Y</b>50.1309<br>\n",
       "<b>G</b>2<b>X</b>76.8898<b>Y</b>52.6118<b>I</b>4.601<b>1</b>.2639<br>\n",
       "<b>G</b>2<b>X</b>79.8169<b>Y</b>53.6281<b>I</b>2.9271<b>3</b>.7071<br>\n",
       "<b>G</b>2<b>X</b>83.178<b>Y</b>52.2359<b>0</b>.<b>4</b>.7536<br>\n",
       "<b>G</b>2<b>X</b>84.5705<b>Y</b>48.8745<b>3</b>.3612<b>3</b>.3614<br>\n",
       "<b>G</b>2<b>X</b>83.1781<b>Y</b>45.5131<b>4</b>.7536<b>J</b>0.<br>\n",
       "<b>G</b>2<b>X</b>79.8169<b>Y</b>44.1209<b>3</b>.3612<b>J</b>3.3614<br>\n",
       "<b>G</b>2<b>X</b>78.1323<b>Y</b>44.4378<b>0</b>.<b>J</b>4.6358<br>\n",
       "<b>G</b>2<b>X</b>76.7601<b>Y</b>45.2542<b>I</b>1.7681<b>J</b>4.5331<br>\n",
       "<b>G</b>1<b>X</b>63.2792<b>Y</b>30.7354<br>\n",
       "<b>G</b>1<b>X</b>65.2622<b>Y</b>9.497<br>\n",
       "<b>G</b>3<b>X</b>65.3708<b>Y</b>9.5035<b>0</b>.2043<b>J</b>4.3293<br>\n",
       "<b>G</b>2<b>X</b>65.481<b>Y</b>9.5075<b>I</b>0.1102<b>1</b>.5226<br>\n",
       "<b>G</b>2<b>X</b>68.8422<b>Y</b>8.1152<b>I</b>0.<b>4</b>.7536<br>\n",
       "<b>G</b>2<b>X</b>70.2346<b>Y</b>4.7539<b>3</b>.3612<b>3</b>.3614<br>\n",
       "<b>G</b>2<b>X</b>68.8422<b>Y</b>1.3922<b>4</b>.7541<b>0</b>.<br>\n",
       "<b>G</b>2<b>X</b>65.481<b>0</b>.<b>3</b>.3612<b>J</b>3.3611<br>\n",
       "<b>G</b>2<b>X</b>62.1197<b>Y</b>1.3924<b>I</b>0.<b>J</b>4.7534<br>\n",
       "<b>G</b>2<b>X</b>60.7274<b>Y</b>4.7539<b>I</b>3.3618<b>J</b>3.3615<br>\n",
       "<b>G</b>2<b>X</b>60.8298<b>Y</b>5.6905<b>I</b>4.3354<b>0</b>.<br>\n",
       "<b>G</b>2<b>X</b>61.0954<b>Y</b>6.5409<b>I</b>5.1241<b>1</b>.1338<br>\n",
       "<b>G</b>1<b>X</b>43.1192<b>Y</b>14.8766<br>\n",
       "<b>G</b>1<b>X</b>23.5227<b>Y</b>6.423<br>\n",
       "<b>G</b>2<b>X</b>23.7538<b>Y</b>5.6257<b>4</b>.9604<b>1</b>.8701<br>\n",
       "<b>G</b>2<b>X</b>23.8429<b>Y</b>4.7539<b>4</b>.219<b>0</b>.8718<br>\n",
       "<b>G</b>2<b>X</b>22.4506<b>Y</b>1.3923<b>4</b>.7541<b>0</b>.<br>\n",
       "<b>G</b>2<b>X</b>19.0893<b>0</b>.<b>3</b>.3613<b>J</b>3.3611<br>\n",
       "<b>G</b>1<b>X</b>19.0893<b>0</b>.<br>\n",
       "<b>M</b>05<br>\n",
       "<b>G</b>1<b>F</b>3000.00<br>\n",
       "<b>G</b>1<b>X</b>19.0893<b>Y</b>0.4468<br>\n",
       "<b>M</b>03<b>S</b>255<br>\n",
       "<b>G</b>1<b>F</b>100.000000<br>\n",
       "<b>G</b>3<b>X</b>22.1347<b>Y</b>1.7083<b>I</b>0.<b>J</b>4.3066<br>\n",
       "<b>G</b>3<b>X</b>23.3961<b>Y</b>4.7539<b>3</b>.0458<b>J</b>3.0456<br>\n",
       "<b>G</b>3<b>X</b>23.3021<b>Y</b>5.6516<b>4</b>.3313<b>J</b>0.<br>\n",
       "<b>G</b>3<b>X</b>23.0447<b>Y</b>6.46<b>4</b>.1805<b>0</b>.8857<br>\n",
       "<b>G</b>1<b>X</b>23.0423<b>Y</b>6.6309<br>\n",
       "<b>G</b>1<b>X</b>23.1614<b>Y</b>6.7535<br>\n",
       "<b>G</b>1<b>X</b>43.0339<b>Y</b>15.3263<br>\n",
       "<b>G</b>1<b>X</b>43.1254<b>Y</b>15.3446<br>\n",
       "<b>G</b>1<b>X</b>43.2163<b>Y</b>15.324<br>\n",
       "<b>G</b>1<b>X</b>61.4645<b>Y</b>6.8623<br>\n",
       "<b>G</b>1<b>X</b>61.5802<b>Y</b>6.7364<br>\n",
       "<b>G</b>1<b>X</b>61.573<b>Y</b>6.5656<br>\n",
       "<b>G</b>3<b>X</b>61.2813<b>Y</b>5.7109<b>I</b>3.8658<b>1</b>.7968<br>\n",
       "<b>G</b>3<b>X</b>61.1742<b>Y</b>4.7539<b>I</b>4.2236<b>0</b>.9571<br>\n",
       "<b>G</b>3<b>X</b>62.4356<b>Y</b>1.7083<b>I</b>4.3073<b>0</b>.<br>\n",
       "<b>G</b>3<b>X</b>65.481<b>Y</b>0.4468<b>I</b>3.0454<b>J</b>3.045<br>\n",
       "<b>G</b>3<b>X</b>68.5262<b>Y</b>1.7082<b>I</b>0.<b>J</b>4.3066<br>\n",
       "<b>G</b>3<b>X</b>69.7878<b>Y</b>4.7539<b>3</b>.0457<b>J</b>3.0457<br>\n",
       "<b>G</b>3<b>X</b>68.5263<b>Y</b>7.7993<b>4</b>.3068<b>0</b>.<br>\n",
       "<b>G</b>3<b>X</b>65.481<b>Y</b>9.0606<b>3</b>.0453<b>3</b>.0454<br>\n",
       "<b>G</b>3<b>X</b>65.279<b>Y</b>9.0557<b>I</b>0.<b>4</b>.1581<br>\n",
       "<b>G</b>3<b>X</b>65.0801<b>Y</b>9.0417<b>I</b>0.2233<b>4</b>.591<br>\n",
       "<b>G</b>1<b>X</b>64.917<b>Y</b>9.0923<br>\n",
       "<b>G</b>1<b>X</b>64.8372<b>Y</b>9.2433<br>\n",
       "<b>G</b>1<b>X</b>62.8248<b>Y</b>30.7932<br>\n",
       "<b>G</b>1<b>X</b>62.8357<b>Y</b>30.8859<br>\n",
       "<b>G</b>1<b>X</b>62.8835<b>Y</b>30.966<br>\n",
       "<b>G</b>1<b>X</b>76.5707<b>Y</b>45.7071<br>\n",
       "<b>G</b>1<b>X</b>76.6414<b>Y</b>45.7583<br>\n",
       "<b>G</b>1<b>X</b>76.7263<b>Y</b>45.7784<br>\n",
       "<b>G</b>1<b>X</b>76.8124<b>Y</b>45.7646<br>\n",
       "<b>G</b>1<b>X</b>76.8866<b>Y</b>45.7188<br>\n",
       "<b>G</b>3<b>X</b>78.1868<b>Y</b>44.8882<b>I</b>2.9308<b>J</b>3.1552<br>\n",
       "<b>G</b>3<b>X</b>79.8169<b>Y</b>44.5677<b>I</b>1.6301<b>J</b>3.9842<br>\n",
       "<b>G</b>3<b>X</b>82.8622<b>Y</b>45.829<b>0</b>.<b>J</b>4.3068<br>\n",
       "<b>G</b>3<b>X</b>84.1237<b>Y</b>48.8745<b>3</b>.0453<b>J</b>3.0454<br>\n",
       "<b>G</b>3<b>X</b>82.8621<b>Y</b>51.9199<b>4</b>.3068<b>0</b>.<br>\n",
       "<b>G</b>3<b>X</b>79.8169<b>Y</b>53.1812<b>3</b>.0452<b>3</b>.0455<br>\n",
       "<b>G</b>3<b>X</b>77.0806<b>Y</b>52.2019<b>I</b>0.<b>4</b>.3121<br>\n",
       "<b>G</b>3<b>X</b>75.6142<b>Y</b>49.8193<b>I</b>2.7262<b>3</b>.3204<br>\n",
       "<b>G</b>1<b>X</b>75.579<b>Y</b>49.7395<br>\n",
       "<b>G</b>1<b>X</b>75.5158<b>Y</b>49.6793<br>\n",
       "<b>G</b>1<b>X</b>75.4344<b>Y</b>49.6479<br>\n",
       "<b>G</b>1<b>X</b>75.3472<b>Y</b>49.65<br>\n",
       "<b>G</b>1<b>X</b>54.2307<b>Y</b>54.3952<br>\n",
       "<b>G</b>1<b>X</b>54.1459<b>Y</b>54.4342<br>\n",
       "<b>G</b>1<b>X</b>54.0844<b>Y</b>54.5045<br>\n",
       "<b>G</b>1<b>X</b>44.295<b>Y</b>72.0761<br>\n",
       "<b>G</b>1<b>X</b>44.2682<b>Y</b>72.1591<br>\n",
       "<b>G</b>1<b>X</b>44.2752<b>Y</b>72.246<br>\n",
       "<b>G</b>1<b>X</b>44.315<b>Y</b>72.3236<br>\n",
       "<b>G</b>1<b>X</b>44.3814<b>Y</b>72.3801<br>\n",
       "<b>G</b>3<b>X</b>45.959<b>Y</b>73.896<b>2</b>.1045<b>J</b>3.7691<br>\n",
       "<b>G</b>3<b>X</b>46.592<b>Y</b>76.1429<b>3</b>.6718<b>J</b>2.2469<br>\n",
       "<b>G</b>3<b>X</b>45.3305<b>Y</b>79.1883<b>4</b>.3068<b>0</b>.<br>\n",
       "<b>G</b>3<b>X</b>42.2852<b>Y</b>80.4497<b>3</b>.0454<b>3</b>.0454<br>\n",
       "<b>G</b>3<b>X</b>39.2399<b>Y</b>79.1883<b>I</b>0.<b>4</b>.3068<br>\n",
       "<b>G</b>3<b>X</b>37.9784<b>Y</b>76.1429<b>I</b>3.0453<b>3</b>.0454<br>\n",
       "<b>G</b>3<b>X</b>38.5814<b>Y</b>73.9459<b>I</b>4.3041<b>J</b>0.<br>\n",
       "<b>G</b>3<b>X</b>40.0886<b>Y</b>72.438<b>I</b>3.7129<b>J</b>2.2041<br>\n",
       "<b>G</b>1<b>X</b>40.1909<b>Y</b>72.3011<br>\n",
       "<b>G</b>1<b>X</b>40.1665<b>Y</b>72.132<br>\n",
       "<b>G</b>1<b>X</b>29.128<b>Y</b>53.5149<br>\n",
       "<b>G</b>1<b>X</b>29.0647<b>Y</b>53.4463<br>\n",
       "<b>G</b>1<b>X</b>28.9788<b>Y</b>53.4096<br>\n",
       "<b>G</b>1<b>X</b>9.2424<b>Y</b>49.5293<br>\n",
       "<b>G</b>1<b>X</b>9.1551<b>Y</b>49.5295<br>\n",
       "<b>G</b>1<b>X</b>9.0746<b>Y</b>49.563<br>\n",
       "<b>G</b>1<b>X</b>9.0131<b>Y</b>49.6249<br>\n",
       "<b>G</b>1<b>X</b>8.98<b>Y</b>49.7056<br>\n",
       "<b>G</b>3<b>X</b>7.5308<b>Y</b>52.1677<b>4</b>.2167<b>0</b>.8243<br>\n",
       "<b>G</b>3<b>X</b>4.7538<b>Y</b>53.1812<b>2</b>.7771<b>3</b>.2977<br>\n",
       "<b>G</b>3<b>X</b>1.7082<b>Y</b>51.9198<b>0</b>.<b>4</b>.3073<br>\n",
       "<b>G</b>3<b>X</b>0.4467<b>Y</b>48.8745<b>I</b>3.045<b>3</b>.0454<br>\n",
       "<b>G</b>3<b>X</b>1.7082<b>Y</b>45.8291<b>I</b>4.3066<b>J</b>0.<br>\n",
       "<b>G</b>3<b>X</b>4.7538<b>Y</b>44.5677<b>I</b>3.0456<b>J</b>3.0458<br>\n",
       "<b>G</b>3<b>X</b>6.3278<b>Y</b>44.8656<b>I</b>0.<b>J</b>4.307<br>\n",
       "<b>G</b>3<b>X</b>7.5979<b>Y</b>45.6408<b>1</b>.5717<b>J</b>4.0032<br>\n",
       "<b>G</b>1<b>X</b>7.7597<b>Y</b>45.6961<br>\n",
       "<b>G</b>1<b>X</b>7.9132<b>Y</b>45.6207<br>\n",
       "<b>G</b>1<b>X</b>22.2081<b>Y</b>29.369<br>\n",
       "<b>G</b>1<b>X</b>22.2537<b>Y</b>29.2876<br>\n",
       "<b>G</b>1<b>X</b>22.2622<b>Y</b>29.1947<br>\n",
       "<b>G</b>1<b>X</b>19.8538<b>Y</b>9.2247<br>\n",
       "<b>G</b>1<b>X</b>19.77<b>Y</b>9.0757<br>\n",
       "<b>G</b>1<b>X</b>19.6054<b>Y</b>9.0295<br>\n",
       "<b>G</b>3<b>X</b>19.3505<b>Y</b>9.0526<b>0</b>.5285<b>4</b>.4166<br>\n",
       "<b>G</b>3<b>X</b>19.0893<b>Y</b>9.0606<b>0</b>.2612<b>4</b>.2375<br>\n",
       "<b>G</b>3<b>X</b>16.0441<b>Y</b>7.7991<b>0</b>.<b>4</b>.3063<br>\n",
       "<b>G</b>3<b>X</b>14.7828<b>Y</b>4.7539<b>I</b>3.0457<b>3</b>.0453<br>\n",
       "<b>G</b>3<b>X</b>16.0441<b>Y</b>1.7084<b>I</b>4.3075<b>J</b>0.<br>\n",
       "<b>G</b>3<b>X</b>19.0893<b>Y</b>0.4468<b>I</b>3.0452<b>J</b>3.0445<br>\n",
       "<b>G</b>1<b>X</b>19.0893<b>Y</b>0.4468<br>\n",
       "<b>M</b>05<br>\n",
       "<b>G</b>1<b>F</b>3000.00<br>\n",
       "<b>G</b>1<b>X</b>0<b>Y</b>0<br>\n",
       "<b>M</b>18"
      ],
      "text/plain": [
       "<GCode>[cmds=169]"
      ]
     },
     "execution_count": 68,
     "metadata": {},
     "output_type": "execute_result"
    }
   ],
   "source": [
    "woody=init(machine=cnc)+gcode.GCode(file=\"woody_laser_0001.ngc\", machine=cnc)\n",
    "woody"
   ]
  },
  {
   "cell_type": "code",
   "execution_count": 69,
   "metadata": {},
   "outputs": [
    {
     "name": "stdout",
     "output_type": "stream",
     "text": [
      "......."
     ]
    }
   ],
   "source": [
    "woody.run()"
   ]
  },
  {
   "cell_type": "code",
   "execution_count": null,
   "metadata": {},
   "outputs": [],
   "source": []
  }
 ],
 "metadata": {
  "kernelspec": {
   "display_name": "Python 3",
   "language": "python",
   "name": "python3"
  },
  "language_info": {
   "codemirror_mode": {
    "name": "ipython",
    "version": 3
   },
   "file_extension": ".py",
   "mimetype": "text/x-python",
   "name": "python",
   "nbconvert_exporter": "python",
   "pygments_lexer": "ipython3",
   "version": "3.7.3"
  }
 },
 "nbformat": 4,
 "nbformat_minor": 2
}
