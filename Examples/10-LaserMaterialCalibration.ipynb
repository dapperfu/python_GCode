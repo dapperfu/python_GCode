{
 "cells": [
  {
   "cell_type": "markdown",
   "metadata": {},
   "source": [
    "## Laser Calibration ```gcode``` examples.\n",
    "\n",
    "Some code to 'calibrate' laser settings to a material."
   ]
  },
  {
   "cell_type": "code",
   "execution_count": 2,
   "metadata": {},
   "outputs": [
    {
     "name": "stdout",
     "output_type": "stream",
     "text": [
      "The autoreload extension is already loaded. To reload it, use:\n",
      "  %reload_ext autoreload\n"
     ]
    }
   ],
   "source": [
    "# Imports and autoreload for development\n",
    "%load_ext autoreload\n",
    "%autoreload 2\n",
    "import gcode"
   ]
  },
  {
   "cell_type": "code",
   "execution_count": 20,
   "metadata": {},
   "outputs": [],
   "source": [
    "import grbl\n",
    "cnc = grbl.Grbl(port=\"/dev/ttyUSB0\")"
   ]
  },
  {
   "cell_type": "markdown",
   "metadata": {},
   "source": [
    "## Point Calibration.\n",
    "\n",
    "Vary laser power & dwell times in a grid with 5mmx5mm spacing"
   ]
  },
  {
   "cell_type": "code",
   "execution_count": 26,
   "metadata": {},
   "outputs": [],
   "source": [
    "# Create an empty GCode program.\n",
    "prog = gcode.GCode(machine=cnc)\n",
    "prog.G21()\n",
    "prog.G90()\n",
    "prog.G92(X=0, Y=0)\n",
    "prog.G1(F=200)\n",
    "prog.G0(F=200)\n",
    "spacing = 5\n",
    "for y, dwell in enumerate([0.5, 1, 2, 5, 10]):\n",
    "    for x, power in enumerate([100, 150, 200, 250]):\n",
    "        prog.G0(X=x*spacing, Y=y*spacing)\n",
    "        prog.M3(S=power)\n",
    "        prog.G1(X=x*spacing, Y=y*spacing)\n",
    "        prog.G4(P=dwell)\n",
    "        prog.M5()"
   ]
  },
  {
   "cell_type": "code",
   "execution_count": 22,
   "metadata": {},
   "outputs": [
    {
     "data": {
      "text/plain": [
       "'<Hold:0|WPos:39.996,95.004,0.000|Bf:15,114|FS:0,0|Ov:100,100,100>'"
      ]
     },
     "execution_count": 22,
     "metadata": {},
     "output_type": "execute_result"
    }
   ],
   "source": [
    "cnc.status"
   ]
  },
  {
   "cell_type": "code",
   "execution_count": 23,
   "metadata": {},
   "outputs": [
    {
     "data": {
      "text/plain": [
       "(0, ['', \"Grbl 1.1g ['$' for help]\", 'ok'])"
      ]
     },
     "execution_count": 23,
     "metadata": {},
     "output_type": "execute_result"
    }
   ],
   "source": [
    "cnc.reset()"
   ]
  },
  {
   "cell_type": "code",
   "execution_count": 24,
   "metadata": {},
   "outputs": [
    {
     "data": {
      "text/plain": [
       "'<Idle|WPos:39.996,95.004,0.000|Bf:15,127|FS:0,0|WCO:0.000,0.000,0.000>'"
      ]
     },
     "execution_count": 24,
     "metadata": {},
     "output_type": "execute_result"
    }
   ],
   "source": [
    "cnc.status"
   ]
  },
  {
   "cell_type": "code",
   "execution_count": 25,
   "metadata": {},
   "outputs": [
    {
     "data": {
      "text/plain": [
       "115.87804841995239"
      ]
     },
     "execution_count": 25,
     "metadata": {},
     "output_type": "execute_result"
    }
   ],
   "source": [
    "cnc.run(prog)"
   ]
  },
  {
   "cell_type": "markdown",
   "metadata": {},
   "source": [
    "# Line Calibration\n",
    "\n",
    "Vary feed rate, power and dynamic powering."
   ]
  },
  {
   "cell_type": "code",
   "execution_count": 27,
   "metadata": {},
   "outputs": [
    {
     "data": {
      "text/html": [
       "<b>G</b>0<b>X</b>0.0<b>Y</b>0.0<br>\n",
       "<b>M</b>4<b>S</b>1.0<br>\n",
       "<b>G</b>1<b>X</b>10.0<b>Y</b>0.0<b>F</b>300.0<br>\n",
       "<b>M</b>5"
      ],
      "text/plain": [
       "Line<len=10.0mm, feed=300, power=1>"
      ]
     },
     "execution_count": 27,
     "metadata": {},
     "output_type": "execute_result"
    }
   ],
   "source": [
    "gcode.Line()"
   ]
  },
  {
   "cell_type": "code",
   "execution_count": 28,
   "metadata": {},
   "outputs": [
    {
     "data": {
      "text/plain": [
       "array([[ 0.,  0.],\n",
       "       [10.,  0.]])"
      ]
     },
     "execution_count": 28,
     "metadata": {},
     "output_type": "execute_result"
    }
   ],
   "source": [
    "gcode.hline()"
   ]
  },
  {
   "cell_type": "code",
   "execution_count": 29,
   "metadata": {},
   "outputs": [
    {
     "data": {
      "text/html": [
       "<b>G</b>0<b>X</b>0.0<b>Y</b>0.0<br>\n",
       "<b>M</b>4<b>S</b>1.0<br>\n",
       "<b>G</b>1<b>X</b>10.0<b>Y</b>0.0<b>F</b>300.0<br>\n",
       "<b>M</b>5"
      ],
      "text/plain": [
       "Line<len=10.0mm, feed=300, power=1>"
      ]
     },
     "execution_count": 29,
     "metadata": {},
     "output_type": "execute_result"
    }
   ],
   "source": [
    "gcode.Line(points=gcode.hline())"
   ]
  },
  {
   "cell_type": "code",
   "execution_count": 30,
   "metadata": {},
   "outputs": [
    {
     "data": {
      "text/html": [
       "<b>G</b>0<b>X</b>0.0<b>Y</b>0.0<br>\n",
       "<b>M</b>4<b>S</b>127.0<br>\n",
       "<b>G</b>1<b>X</b>10.0<b>Y</b>0.0<b>F</b>100.0<br>\n",
       "<b>M</b>5"
      ],
      "text/plain": [
       "Line<len=10.0mm, feed=100, power=127>"
      ]
     },
     "execution_count": 30,
     "metadata": {},
     "output_type": "execute_result"
    }
   ],
   "source": [
    "gcode.Line(points=gcode.hline(), power=127, feed=100, dynamic_power=True)"
   ]
  },
  {
   "cell_type": "code",
   "execution_count": 31,
   "metadata": {},
   "outputs": [
    {
     "data": {
      "text/html": [
       "<b>G</b>0<b>X</b>0.0<b>Y</b>0.0<br>\n",
       "<b>M</b>3<b>S</b>127.0<br>\n",
       "<b>G</b>1<b>X</b>10.0<b>Y</b>0.0<b>F</b>100.0<br>\n",
       "<b>M</b>5"
      ],
      "text/plain": [
       "Line<len=10.0mm, feed=100, power=127>"
      ]
     },
     "execution_count": 31,
     "metadata": {},
     "output_type": "execute_result"
    }
   ],
   "source": [
    "gcode.Line(points=gcode.hline(), power=127, feed=100, dynamic_power=False)"
   ]
  },
  {
   "cell_type": "code",
   "execution_count": 39,
   "metadata": {},
   "outputs": [
    {
     "data": {
      "text/html": [
       "<b>G</b>0<b>X</b>1.0<b>Y</b>2.0<br>\n",
       "<b>M</b>3<b>S</b>127.0<br>\n",
       "<b>G</b>1<b>X</b>5.0<b>Y</b>2.0<b>F</b>100.0<br>\n",
       "<b>M</b>5"
      ],
      "text/plain": [
       "Line<len=4.0mm, feed=100, power=127>"
      ]
     },
     "execution_count": 39,
     "metadata": {},
     "output_type": "execute_result"
    }
   ],
   "source": [
    "gcode.Line(points=gcode.hline(X0=1, Xf=5, Y=2, n_points=2), power=127, feed=100, dynamic_power=False)"
   ]
  },
  {
   "cell_type": "code",
   "execution_count": 41,
   "metadata": {},
   "outputs": [
    {
     "data": {
      "text/html": [
       "<b>G</b>0<b>X</b>1.0<b>Y</b>2.0<br>\n",
       "<b>M</b>3<b>S</b>127.0<br>\n",
       "<b>G</b>1<b>X</b>1.5<b>Y</b>2.0<b>F</b>100.0<br>\n",
       "<b>G</b>1<b>X</b>2.0<b>Y</b>2.0<b>F</b>100.0<br>\n",
       "<b>G</b>1<b>X</b>2.5<b>Y</b>2.0<b>F</b>100.0<br>\n",
       "<b>G</b>1<b>X</b>3.0<b>Y</b>2.0<b>F</b>100.0<br>\n",
       "<b>G</b>1<b>X</b>3.5<b>Y</b>2.0<b>F</b>100.0<br>\n",
       "<b>G</b>1<b>X</b>4.0<b>Y</b>2.0<b>F</b>100.0<br>\n",
       "<b>G</b>1<b>X</b>4.5<b>Y</b>2.0<b>F</b>100.0<br>\n",
       "<b>G</b>1<b>X</b>5.0<b>Y</b>2.0<b>F</b>100.0<br>\n",
       "<b>M</b>5"
      ],
      "text/plain": [
       "Line<len=4.0mm, feed=100, power=127>"
      ]
     },
     "execution_count": 41,
     "metadata": {},
     "output_type": "execute_result"
    }
   ],
   "source": [
    "gcode.Line(points=gcode.hline(X0=1, Xf=5, Y=2, n_points=9), power=127, feed=100, dynamic_power=False)"
   ]
  },
  {
   "cell_type": "code",
   "execution_count": 110,
   "metadata": {},
   "outputs": [],
   "source": [
    "def init(**kwargs):\n",
    "    \"\"\"\n",
    "    Basic Machine Init.\n",
    "    \"\"\"\n",
    "    prog = gcode.GCode(**kwargs)\n",
    "    prog.G21()\n",
    "    prog.G90()\n",
    "    prog.G92(X=0, Y=0)\n",
    "    prog.G1(F=200)\n",
    "    prog.G0(F=200)\n",
    "    return prog"
   ]
  },
  {
   "cell_type": "code",
   "execution_count": 111,
   "metadata": {},
   "outputs": [],
   "source": [
    "# Create an empty GCode program.\n",
    "prog = init(machine=cnc)\n",
    "\n",
    "line_spacing=5\n",
    "# Points To Draw.\n",
    "line_points = gcode.hline(Xf=10)\n",
    "for p, power in enumerate([100, 150, 175, 200, 255]):\n",
    "    prog.G21()\n",
    "    prog.G90()\n",
    "    # \"New Line\"\n",
    "    prog.G0(X=0, Y=p*line_spacing)\n",
    "    # Relative\n",
    "    prog.G91()\n",
    "    for f, feed in enumerate([100, 200, 300]):        \n",
    "        for d, dynamic_power in enumerate([True, False]):\n",
    "            line = gcode.Line(points=line_points, power=power, feed=feed, dynamic_power=dynamic_power)\n",
    "            prog+=line"
   ]
  },
  {
   "cell_type": "code",
   "execution_count": 113,
   "metadata": {},
   "outputs": [
    {
     "data": {
      "text/plain": [
       "'<Idle|WPos:30.004,19.996,0.000|Bf:15,127|FS:0,0>'"
      ]
     },
     "execution_count": 113,
     "metadata": {},
     "output_type": "execute_result"
    }
   ],
   "source": [
    "cnc.status"
   ]
  },
  {
   "cell_type": "code",
   "execution_count": 114,
   "metadata": {},
   "outputs": [
    {
     "data": {
      "text/plain": [
       "['ok', '[MSG:Enabled]', 'ok']"
      ]
     },
     "execution_count": 114,
     "metadata": {},
     "output_type": "execute_result"
    }
   ],
   "source": [
    "cnc.cmd(\"$C\")"
   ]
  },
  {
   "cell_type": "code",
   "execution_count": 115,
   "metadata": {},
   "outputs": [
    {
     "data": {
      "text/plain": [
       "'<Check|WPos:30.004,19.996,0.000|Bf:15,127|FS:0,0>'"
      ]
     },
     "execution_count": 115,
     "metadata": {},
     "output_type": "execute_result"
    }
   ],
   "source": [
    "cnc.status"
   ]
  },
  {
   "cell_type": "code",
   "execution_count": 116,
   "metadata": {},
   "outputs": [],
   "source": [
    "def check_mode(self):\n",
    "    return \"Check\" in cnc.status"
   ]
  },
  {
   "cell_type": "code",
   "execution_count": 117,
   "metadata": {},
   "outputs": [
    {
     "data": {
      "text/plain": [
       "True"
      ]
     },
     "execution_count": 117,
     "metadata": {},
     "output_type": "execute_result"
    }
   ],
   "source": [
    "check_mode(cnc)"
   ]
  },
  {
   "cell_type": "code",
   "execution_count": 124,
   "metadata": {},
   "outputs": [
    {
     "name": "stdout",
     "output_type": "stream",
     "text": [
      "0 0 0 0\n",
      "1 0 1 1\n",
      "2 0 2 2\n",
      "3 1 0 2\n",
      "4 1 1 3\n",
      "5 1 2 4\n",
      "0 0 0 0\n",
      "1 0 1 1\n",
      "2 0 2 2\n",
      "3 1 0 2\n",
      "4 1 1 3\n",
      "5 1 2 4\n",
      "0 0 0 0\n",
      "1 0 1 1\n",
      "2 0 2 2\n",
      "3 1 0 2\n",
      "4 1 1 3\n",
      "5 1 2 4\n",
      "0 0 0 0\n",
      "1 0 1 1\n",
      "2 0 2 2\n",
      "3 1 0 2\n",
      "4 1 1 3\n",
      "5 1 2 4\n",
      "0 0 0 0\n",
      "1 0 1 1\n",
      "2 0 2 2\n",
      "3 1 0 2\n",
      "4 1 1 3\n",
      "5 1 2 4\n"
     ]
    }
   ],
   "source": [
    "for p, power in enumerate([100, 150, 175, 200, 255]):\n",
    "    idx=0\n",
    "    for d, dynamic_power in enumerate([True, False]):\n",
    "        for f, feed in enumerate([100, 200, 300]):        \n",
    "            idx+=1\n",
    "            print(idx-1, d, f, f+d*2)"
   ]
  },
  {
   "cell_type": "code",
   "execution_count": 126,
   "metadata": {},
   "outputs": [
    {
     "name": "stdout",
     "output_type": "stream",
     "text": [
      "0 0 0 1\n",
      "1 0 1 2\n",
      "2 0 2 3\n",
      "3 1 0 3\n",
      "4 1 1 4\n",
      "5 1 2 5\n",
      "0 0 0 1\n",
      "1 0 1 2\n",
      "2 0 2 3\n",
      "3 1 0 3\n",
      "4 1 1 4\n",
      "5 1 2 5\n",
      "0 0 0 1\n",
      "1 0 1 2\n",
      "2 0 2 3\n",
      "3 1 0 3\n",
      "4 1 1 4\n",
      "5 1 2 5\n",
      "0 0 0 1\n",
      "1 0 1 2\n",
      "2 0 2 3\n",
      "3 1 0 3\n",
      "4 1 1 4\n",
      "5 1 2 5\n",
      "0 0 0 1\n",
      "1 0 1 2\n",
      "2 0 2 3\n",
      "3 1 0 3\n",
      "4 1 1 4\n",
      "5 1 2 5\n"
     ]
    }
   ],
   "source": [
    "for p, power in enumerate([100, 150, 175, 200, 255]):\n",
    "    idx=0\n",
    "    for d, dynamic_power in enumerate([True, False]):\n",
    "        for f, feed in enumerate([100, 200, 300]):        \n",
    "            idx+=1\n",
    "            print(idx-1, d, f, f+(d+1)*2-1)##!!!"
   ]
  },
  {
   "cell_type": "code",
   "execution_count": 137,
   "metadata": {},
   "outputs": [],
   "source": [
    "for p, power in enumerate([100, 150, 175, 200, 255]):\n",
    "    idx=0\n",
    "    for d, dynamic_power in enumerate([True, False]):\n",
    "        for f, feed in enumerate([100, 200, 300]):        \n",
    "            idx+=1\n",
    "#            idx=f+(d+1)*2-1)##!!!\n",
    "            hline_cfg = {\n",
    "                \"X0\":(idx-1)*spacing,\n",
    "                \"Xf\":idx*spacing,\n",
    "                \"Y\" :p*line_spacing,\n",
    "            }\n",
    "            line_points = gcode.hline(**hline_cfg)\n",
    "            line = gcode.Line(points=line_points, power=power, feed=feed, dynamic_power=dynamic_power)"
   ]
  },
  {
   "cell_type": "code",
   "execution_count": 138,
   "metadata": {},
   "outputs": [
    {
     "data": {
      "text/html": [
       "<b>G</b>0<b>X</b>25.0<b>Y</b>20.0<br>\n",
       "<b>M</b>3<b>S</b>255.0<br>\n",
       "<b>G</b>1<b>X</b>30.0<b>Y</b>20.0<b>F</b>300.0<br>\n",
       "<b>M</b>5"
      ],
      "text/plain": [
       "Line<len=5.0mm, feed=300, power=255>"
      ]
     },
     "execution_count": 138,
     "metadata": {},
     "output_type": "execute_result"
    }
   ],
   "source": [
    "line"
   ]
  },
  {
   "cell_type": "code",
   "execution_count": 95,
   "metadata": {},
   "outputs": [
    {
     "name": "stdout",
     "output_type": "stream",
     "text": [
      "..."
     ]
    }
   ],
   "source": [
    "spacing=5\n",
    "# Points To Draw.\n",
    "line_points = gcode.hline(Xf=spacing)\n",
    "\n",
    "for p, power in enumerate([100, 150, 175, 200, 255]):\n",
    "    prog.G21()\n",
    "    prog.G90()\n",
    "    # \"New Line\"\n",
    "    prog.G0(X=0, Y=p*spacing)\n",
    "    # Relative\n",
    "    prog.G91()\n",
    "    for f, feed in enumerate([100, 200, 300]):        \n",
    "        for d, dynamic_power in enumerate([True, False]):\n",
    "            line = gcode.Line(points=line_points, power=power, feed=feed, dynamic_power=dynamic_power)\n",
    "            prog+=line\n",
    "prog.run()"
   ]
  }
 ],
 "metadata": {
  "kernelspec": {
   "display_name": "Python 3",
   "language": "python",
   "name": "python3"
  },
  "language_info": {
   "codemirror_mode": {
    "name": "ipython",
    "version": 3
   },
   "file_extension": ".py",
   "mimetype": "text/x-python",
   "name": "python",
   "nbconvert_exporter": "python",
   "pygments_lexer": "ipython3",
   "version": "3.7.3"
  }
 },
 "nbformat": 4,
 "nbformat_minor": 2
}
